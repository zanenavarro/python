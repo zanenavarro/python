{
 "cells": [
  {
   "cell_type": "code",
   "execution_count": 2,
   "metadata": {},
   "outputs": [
    {
     "data": {
      "text/plain": [
       "[{'ExerciseName': 'Pushups',\n",
       "  'ExerciseCategory': 'chest',\n",
       "  'ExerciseGroup': 'weight'},\n",
       " {'ExerciseName': 'Decline Dumbbell Flyes',\n",
       "  'ExerciseCategory': 'chest',\n",
       "  'ExerciseGroup': 'weight'},\n",
       " {'ExerciseName': 'Reverse-grip incline dumbbell bench press',\n",
       "  'ExerciseCategory': 'chest',\n",
       "  'ExerciseGroup': 'weight'},\n",
       " {'ExerciseName': 'Incline cable chest fly',\n",
       "  'ExerciseCategory': 'chest',\n",
       "  'ExerciseGroup': 'cable'},\n",
       " {'ExerciseName': 'Incline dumbbell bench press',\n",
       "  'ExerciseCategory': 'chest',\n",
       "  'ExerciseGroup': 'weight'},\n",
       " {'ExerciseName': 'Dumbbell Flyes',\n",
       "  'ExerciseCategory': 'chest',\n",
       "  'ExerciseGroup': 'weight'},\n",
       " {'ExerciseName': 'Close-grip bench press',\n",
       "  'ExerciseCategory': 'chest',\n",
       "  'ExerciseGroup': 'weight'},\n",
       " {'ExerciseName': 'Low-cable cross-over',\n",
       "  'ExerciseCategory': 'chest',\n",
       "  'ExerciseGroup': 'cable'},\n",
       " {'ExerciseName': 'Bodyweight Flyes',\n",
       "  'ExerciseCategory': 'chest',\n",
       "  'ExerciseGroup': 'weight'},\n",
       " {'ExerciseName': 'Decline barbell bench press',\n",
       "  'ExerciseCategory': 'chest',\n",
       "  'ExerciseGroup': 'weight'},\n",
       " {'ExerciseName': 'Dumbbell Bench Press',\n",
       "  'ExerciseCategory': 'chest',\n",
       "  'ExerciseGroup': 'weight'},\n",
       " {'ExerciseName': 'Chest dip',\n",
       "  'ExerciseCategory': 'chest',\n",
       "  'ExerciseGroup': 'weight'},\n",
       " {'ExerciseName': 'Wide-grip bench press',\n",
       "  'ExerciseCategory': 'chest',\n",
       "  'ExerciseGroup': 'weight'},\n",
       " {'ExerciseName': 'Wide-Grip Decline Barbell Bench Press',\n",
       "  'ExerciseCategory': 'chest',\n",
       "  'ExerciseGroup': 'weight'},\n",
       " {'ExerciseName': 'Barbell Bench Press - Medium Grip',\n",
       "  'ExerciseCategory': 'chest',\n",
       "  'ExerciseGroup': 'weight'}]"
      ]
     },
     "execution_count": 2,
     "metadata": {},
     "output_type": "execute_result"
    }
   ],
   "source": [
    "# Testing class amazonHelper class\n",
    "from testing import *\n",
    "from AmazonHelper import AmazonHelper\n",
    "\n",
    "a = AmazonHelper()\n",
    "filter_expression = Attr('ExerciseCategory').contains(\"chest\")\n",
    "a.get_data(\"ExerciseData\", filter_expression)\n",
    "\n",
    "\n",
    "\n",
    "\n"
   ]
  }
 ],
 "metadata": {
  "kernelspec": {
   "display_name": "main_env",
   "language": "python",
   "name": "python3"
  },
  "language_info": {
   "codemirror_mode": {
    "name": "ipython",
    "version": 3
   },
   "file_extension": ".py",
   "mimetype": "text/x-python",
   "name": "python",
   "nbconvert_exporter": "python",
   "pygments_lexer": "ipython3",
   "version": "3.8.10"
  },
  "orig_nbformat": 4,
  "vscode": {
   "interpreter": {
    "hash": "70234e702f8a05bd22622d5df74fe678edcf30833c78d7859f0282b83b66f646"
   }
  }
 },
 "nbformat": 4,
 "nbformat_minor": 2
}
