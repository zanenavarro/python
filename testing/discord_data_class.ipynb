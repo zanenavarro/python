{
 "cells": [
  {
   "cell_type": "code",
   "execution_count": 1,
   "metadata": {},
   "outputs": [
    {
     "name": "stdout",
     "output_type": "stream",
     "text": [
      "c:\\Users\\zanen\\OneDrive\\Desktop\\Projects\\Python\\discord\\1_0\\lib\\\n",
      "{\n",
      "    \"statusCode\": 200,\n",
      "    \"body\": {\n",
      "        \"type\": 5,\n",
      "        \"data\": {\n",
      "            \"tts\": false,\n",
      "            \"content\": \"\",\n",
      "            \"embeds\": [\n",
      "                {\n",
      "                    \"title\": \"Devito Bandito\",\n",
      "                    \"type\": \"\",\n",
      "                    \"description\": \"hello this is first message\",\n",
      "                    \"url\": \"\",\n",
      "                    \"color\": 0\n",
      "                },\n",
      "                {\n",
      "                    \"title\": \"Devito Bandito\",\n",
      "                    \"type\": \"\",\n",
      "                    \"description\": \"hello this is second message\",\n",
      "                    \"url\": \"\",\n",
      "                    \"color\": 0\n",
      "                }\n",
      "            ],\n",
      "            \"allowed_mentions\": {\n",
      "                \"parse\": []\n",
      "            },\n",
      "            \"flags\": 0,\n",
      "            \"components\": [],\n",
      "            \"attachments\": []\n",
      "        }\n",
      "    }\n",
      "}\n"
     ]
    }
   ],
   "source": [
    "## testing load_content\n",
    "import testing\n",
    "import json\n",
    "from discord_data_class import discord_data_class\n",
    "\n",
    "content_list = [\"hello this is first message\",\"hello this is second message\"] \n",
    "ddc = discord_data_class()\n",
    "ddc.load_content(content_list)\n",
    "print(json.dumps(ddc.get_message(\"DEFERRED_CHANNEL_MESSAGE_WITH_SOURCE\"),indent=4))"
   ]
  }
 ],
 "metadata": {
  "kernelspec": {
   "display_name": "main_env",
   "language": "python",
   "name": "python3"
  },
  "language_info": {
   "codemirror_mode": {
    "name": "ipython",
    "version": 3
   },
   "file_extension": ".py",
   "mimetype": "text/x-python",
   "name": "python",
   "nbconvert_exporter": "python",
   "pygments_lexer": "ipython3",
   "version": "3.8.10"
  },
  "orig_nbformat": 4,
  "vscode": {
   "interpreter": {
    "hash": "70234e702f8a05bd22622d5df74fe678edcf30833c78d7859f0282b83b66f646"
   }
  }
 },
 "nbformat": 4,
 "nbformat_minor": 2
}
