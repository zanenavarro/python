{
 "cells": [
  {
   "cell_type": "code",
   "execution_count": null,
   "metadata": {},
   "outputs": [
    {
     "name": "stdout",
     "output_type": "stream",
     "text": [
      "c:\\Users\\zanen\\OneDrive\\Desktop\\Projects\\Python\\discord\\1_0\\lib\\\n"
     ]
    },
    {
     "ename": "ModuleNotFoundError",
     "evalue": "No module named 'amazon'",
     "output_type": "error",
     "traceback": [
      "\u001b[1;31m---------------------------------------------------------------------------\u001b[0m",
      "\u001b[1;31mModuleNotFoundError\u001b[0m                       Traceback (most recent call last)",
      "Cell \u001b[1;32mIn[1], line 3\u001b[0m\n\u001b[0;32m      1\u001b[0m \u001b[39m#testing class is working\u001b[39;00m\n\u001b[1;32m----> 3\u001b[0m \u001b[39mfrom\u001b[39;00m \u001b[39mtesting\u001b[39;00m \u001b[39mimport\u001b[39;00m \u001b[39m*\u001b[39m\n\u001b[0;32m      4\u001b[0m \u001b[39mfrom\u001b[39;00m \u001b[39mgym\u001b[39;00m \u001b[39mimport\u001b[39;00m GymHelper\n\u001b[0;32m      7\u001b[0m gym \u001b[39m=\u001b[39m GymHelper()\n",
      "File \u001b[1;32mc:\\Users\\zanen\\OneDrive\\Desktop\\Projects\\Python\\testing\\testing.py:17\u001b[0m\n\u001b[0;32m     14\u001b[0m sys\u001b[39m.\u001b[39mpath\u001b[39m.\u001b[39mappend(path_to_discord)\n\u001b[0;32m     16\u001b[0m \u001b[39m# import recipe\u001b[39;00m\n\u001b[1;32m---> 17\u001b[0m \u001b[39mfrom\u001b[39;00m \u001b[39mrecipe\u001b[39;00m \u001b[39mimport\u001b[39;00m RecipeHelper\n\u001b[0;32m     18\u001b[0m \u001b[39m# from gym import GymHelper\u001b[39;00m\n\u001b[0;32m     19\u001b[0m \u001b[39m# from discord_data_class import discord_data_class\u001b[39;00m\n\u001b[0;32m     20\u001b[0m \u001b[39m# from entertainment import EntertainmentHelper\u001b[39;00m\n\u001b[0;32m     21\u001b[0m \u001b[39m# from receipt_ocr import ReceiptHelper\u001b[39;00m\n",
      "File \u001b[1;32mc:\\Users\\zanen\\OneDrive\\Desktop\\Projects\\Python\\discord\\1_0\\lib\\recipe.py:19\u001b[0m\n\u001b[0;32m     17\u001b[0m \u001b[39mimport\u001b[39;00m \u001b[39mboto3\u001b[39;00m\n\u001b[0;32m     18\u001b[0m sys\u001b[39m.\u001b[39mpath\u001b[39m.\u001b[39mappend(\u001b[39m\"\u001b[39m\u001b[39m../util\u001b[39m\u001b[39m\"\u001b[39m)\n\u001b[1;32m---> 19\u001b[0m \u001b[39mfrom\u001b[39;00m \u001b[39mamazon\u001b[39;00m \u001b[39mimport\u001b[39;00m AmazonHelper\n\u001b[0;32m     20\u001b[0m BASEDIR \u001b[39m=\u001b[39m os\u001b[39m.\u001b[39mpath\u001b[39m.\u001b[39mabspath(os\u001b[39m.\u001b[39mpath\u001b[39m.\u001b[39mdirname(\u001b[39m__file__\u001b[39m)) \u001b[39m+\u001b[39m \u001b[39m\"\u001b[39m\u001b[39m\\\u001b[39m\u001b[39m.env\u001b[39m\u001b[39m\"\u001b[39m\n\u001b[0;32m     21\u001b[0m \u001b[39mfrom\u001b[39;00m \u001b[39mdotenv\u001b[39;00m \u001b[39mimport\u001b[39;00m load_dotenv\n",
      "\u001b[1;31mModuleNotFoundError\u001b[0m: No module named 'amazon'"
     ]
    }
   ],
   "source": [
    "#testing class is working\n",
    "\n",
    "from testing import *\n",
    "from gym import GymHelper\n",
    "\n",
    "\n",
    "gym = GymHelper()\n",
    "\n",
    "gym.print_debug(\"testing\")\n",
    "\n",
    "\n"
   ]
  }
 ],
 "metadata": {
  "kernelspec": {
   "display_name": "main_env",
   "language": "python",
   "name": "python3"
  },
  "language_info": {
   "codemirror_mode": {
    "name": "ipython",
    "version": 3
   },
   "file_extension": ".py",
   "mimetype": "text/x-python",
   "name": "python",
   "nbconvert_exporter": "python",
   "pygments_lexer": "ipython3",
   "version": "3.8.10"
  },
  "orig_nbformat": 4,
  "vscode": {
   "interpreter": {
    "hash": "70234e702f8a05bd22622d5df74fe678edcf30833c78d7859f0282b83b66f646"
   }
  }
 },
 "nbformat": 4,
 "nbformat_minor": 2
}
