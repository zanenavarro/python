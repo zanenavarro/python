{
 "cells": [
  {
   "cell_type": "code",
   "execution_count": 3,
   "metadata": {},
   "outputs": [
    {
     "name": "stdout",
     "output_type": "stream",
     "text": [
      "<boto3.dynamodb.conditions.Attr object at 0x000001A134B87EB0>\n"
     ]
    },
    {
     "ename": "ClientError",
     "evalue": "An error occurred (ValidationException) when calling the Scan operation: Invalid FilterExpression: Syntax error; token: \"<\", near: \"<boto3\"",
     "output_type": "error",
     "traceback": [
      "\u001b[1;31m---------------------------------------------------------------------------\u001b[0m",
      "\u001b[1;31mClientError\u001b[0m                               Traceback (most recent call last)",
      "Cell \u001b[1;32mIn[3], line 6\u001b[0m\n\u001b[0;32m      2\u001b[0m \u001b[39mfrom\u001b[39;00m \u001b[39mtesting\u001b[39;00m \u001b[39mimport\u001b[39;00m \u001b[39m*\u001b[39m\n\u001b[0;32m      5\u001b[0m recipe \u001b[39m=\u001b[39m RecipeHelper()\n\u001b[1;32m----> 6\u001b[0m discord_dc \u001b[39m=\u001b[39m recipe\u001b[39m.\u001b[39;49mspoonacular_gen_recipe()\n\u001b[0;32m      7\u001b[0m \u001b[39mprint\u001b[39m(json\u001b[39m.\u001b[39mdumps(discord_dc\u001b[39m.\u001b[39mget_message(\u001b[39m\"\u001b[39m\u001b[39mPONG\u001b[39m\u001b[39m\"\u001b[39m),indent\u001b[39m=\u001b[39m\u001b[39m4\u001b[39m))\n",
      "File \u001b[1;32mc:\\Users\\zanen\\OneDrive\\Desktop\\Projects\\Python\\discord\\1_0\\lib\\recipe.py:85\u001b[0m, in \u001b[0;36mRecipeHelper.spoonacular_gen_recipe\u001b[1;34m(self)\u001b[0m\n\u001b[0;32m     80\u001b[0m \u001b[39m\u001b[39m\u001b[39m\"\"\"Generating spoonacular recipe info\u001b[39;00m\n\u001b[0;32m     81\u001b[0m \u001b[39m:return: discord_data_class\u001b[39;00m\n\u001b[0;32m     82\u001b[0m \u001b[39m:rtype: discord_data_class\u001b[39;00m\n\u001b[0;32m     83\u001b[0m \u001b[39m\"\"\"\u001b[39;00m\n\u001b[0;32m     84\u001b[0m id_l \u001b[39m=\u001b[39m []\n\u001b[1;32m---> 85\u001b[0m ingredient_l \u001b[39m=\u001b[39m \u001b[39mself\u001b[39;49m\u001b[39m.\u001b[39;49mget_ingredients()\n\u001b[0;32m     86\u001b[0m ingredient_str \u001b[39m=\u001b[39m \u001b[39m\"\u001b[39m\u001b[39m,\u001b[39m\u001b[39m\"\u001b[39m\u001b[39m.\u001b[39mjoin(ingredient_l)\n\u001b[0;32m     88\u001b[0m \u001b[39m# assemble endpoint for 'complexSearch'\u001b[39;00m\n",
      "File \u001b[1;32mc:\\Users\\zanen\\OneDrive\\Desktop\\Projects\\Python\\discord\\1_0\\lib\\recipe.py:70\u001b[0m, in \u001b[0;36mRecipeHelper.get_ingredients\u001b[1;34m(self)\u001b[0m\n\u001b[0;32m     68\u001b[0m db_condition \u001b[39m=\u001b[39m boto3\u001b[39m.\u001b[39mdynamodb\u001b[39m.\u001b[39mconditions\u001b[39m.\u001b[39mAttr(\u001b[39m'\u001b[39m\u001b[39mFoodGroup\u001b[39m\u001b[39m'\u001b[39m)\n\u001b[0;32m     69\u001b[0m \u001b[39mprint\u001b[39m(db_condition)\n\u001b[1;32m---> 70\u001b[0m food_data \u001b[39m=\u001b[39m \u001b[39mself\u001b[39;49m\u001b[39m.\u001b[39;49mget_data(db_condition)\n\u001b[0;32m     72\u001b[0m \u001b[39mfor\u001b[39;00m items \u001b[39min\u001b[39;00m food_data:\n\u001b[0;32m     73\u001b[0m     \u001b[39m# food_group = items[\"FoodGroup\"]\u001b[39;00m\n\u001b[0;32m     74\u001b[0m     food_name \u001b[39m=\u001b[39m items[\u001b[39m\"\u001b[39m\u001b[39mFoodName\u001b[39m\u001b[39m\"\u001b[39m]\n",
      "File \u001b[1;32mc:\\Users\\zanen\\OneDrive\\Desktop\\Projects\\Python\\amazon\\lib\\AmazonHelper.py:26\u001b[0m, in \u001b[0;36mAmazonHelper.get_data\u001b[1;34m(self, db_condition_class)\u001b[0m\n\u001b[0;32m     23\u001b[0m table \u001b[39m=\u001b[39m dynamodb\u001b[39m.\u001b[39mTable(\u001b[39mself\u001b[39m\u001b[39m.\u001b[39mtable_name)\n\u001b[0;32m     24\u001b[0m db_condition \u001b[39m=\u001b[39m \u001b[39mstr\u001b[39m(db_condition_class)\n\u001b[1;32m---> 26\u001b[0m response \u001b[39m=\u001b[39m table\u001b[39m.\u001b[39;49mscan(\n\u001b[0;32m     27\u001b[0m     FilterExpression\u001b[39m=\u001b[39;49mdb_condition\n\u001b[0;32m     28\u001b[0m )\n\u001b[0;32m     29\u001b[0m \u001b[39m# TODO: handle bad response here - must sent trigger\u001b[39;00m\n\u001b[0;32m     30\u001b[0m \u001b[39mreturn\u001b[39;00m response[\u001b[39m'\u001b[39m\u001b[39mItems\u001b[39m\u001b[39m'\u001b[39m]\n",
      "File \u001b[1;32mc:\\Users\\zanen\\miniconda3\\envs\\main_env\\lib\\site-packages\\boto3\\resources\\factory.py:580\u001b[0m, in \u001b[0;36mResourceFactory._create_action.<locals>.do_action\u001b[1;34m(self, *args, **kwargs)\u001b[0m\n\u001b[0;32m    579\u001b[0m \u001b[39mdef\u001b[39;00m \u001b[39mdo_action\u001b[39m(\u001b[39mself\u001b[39m, \u001b[39m*\u001b[39margs, \u001b[39m*\u001b[39m\u001b[39m*\u001b[39mkwargs):\n\u001b[1;32m--> 580\u001b[0m     response \u001b[39m=\u001b[39m action(\u001b[39mself\u001b[39;49m, \u001b[39m*\u001b[39;49margs, \u001b[39m*\u001b[39;49m\u001b[39m*\u001b[39;49mkwargs)\n\u001b[0;32m    582\u001b[0m     \u001b[39mif\u001b[39;00m \u001b[39mhasattr\u001b[39m(\u001b[39mself\u001b[39m, \u001b[39m'\u001b[39m\u001b[39mload\u001b[39m\u001b[39m'\u001b[39m):\n\u001b[0;32m    583\u001b[0m         \u001b[39m# Clear cached data. It will be reloaded the next\u001b[39;00m\n\u001b[0;32m    584\u001b[0m         \u001b[39m# time that an attribute is accessed.\u001b[39;00m\n\u001b[0;32m    585\u001b[0m         \u001b[39m# TODO: Make this configurable in the future?\u001b[39;00m\n\u001b[0;32m    586\u001b[0m         \u001b[39mself\u001b[39m\u001b[39m.\u001b[39mmeta\u001b[39m.\u001b[39mdata \u001b[39m=\u001b[39m \u001b[39mNone\u001b[39;00m\n",
      "File \u001b[1;32mc:\\Users\\zanen\\miniconda3\\envs\\main_env\\lib\\site-packages\\boto3\\resources\\action.py:88\u001b[0m, in \u001b[0;36mServiceAction.__call__\u001b[1;34m(self, parent, *args, **kwargs)\u001b[0m\n\u001b[0;32m     79\u001b[0m params\u001b[39m.\u001b[39mupdate(kwargs)\n\u001b[0;32m     81\u001b[0m logger\u001b[39m.\u001b[39mdebug(\n\u001b[0;32m     82\u001b[0m     \u001b[39m'\u001b[39m\u001b[39mCalling \u001b[39m\u001b[39m%s\u001b[39;00m\u001b[39m:\u001b[39m\u001b[39m%s\u001b[39;00m\u001b[39m with \u001b[39m\u001b[39m%r\u001b[39;00m\u001b[39m'\u001b[39m,\n\u001b[0;32m     83\u001b[0m     parent\u001b[39m.\u001b[39mmeta\u001b[39m.\u001b[39mservice_name,\n\u001b[0;32m     84\u001b[0m     operation_name,\n\u001b[0;32m     85\u001b[0m     params,\n\u001b[0;32m     86\u001b[0m )\n\u001b[1;32m---> 88\u001b[0m response \u001b[39m=\u001b[39m \u001b[39mgetattr\u001b[39;49m(parent\u001b[39m.\u001b[39;49mmeta\u001b[39m.\u001b[39;49mclient, operation_name)(\u001b[39m*\u001b[39;49margs, \u001b[39m*\u001b[39;49m\u001b[39m*\u001b[39;49mparams)\n\u001b[0;32m     90\u001b[0m logger\u001b[39m.\u001b[39mdebug(\u001b[39m'\u001b[39m\u001b[39mResponse: \u001b[39m\u001b[39m%r\u001b[39;00m\u001b[39m'\u001b[39m, response)\n\u001b[0;32m     92\u001b[0m \u001b[39mreturn\u001b[39;00m \u001b[39mself\u001b[39m\u001b[39m.\u001b[39m_response_handler(parent, params, response)\n",
      "File \u001b[1;32mc:\\Users\\zanen\\miniconda3\\envs\\main_env\\lib\\site-packages\\botocore\\client.py:530\u001b[0m, in \u001b[0;36mClientCreator._create_api_method.<locals>._api_call\u001b[1;34m(self, *args, **kwargs)\u001b[0m\n\u001b[0;32m    526\u001b[0m     \u001b[39mraise\u001b[39;00m \u001b[39mTypeError\u001b[39;00m(\n\u001b[0;32m    527\u001b[0m         \u001b[39mf\u001b[39m\u001b[39m\"\u001b[39m\u001b[39m{\u001b[39;00mpy_operation_name\u001b[39m}\u001b[39;00m\u001b[39m() only accepts keyword arguments.\u001b[39m\u001b[39m\"\u001b[39m\n\u001b[0;32m    528\u001b[0m     )\n\u001b[0;32m    529\u001b[0m \u001b[39m# The \"self\" in this scope is referring to the BaseClient.\u001b[39;00m\n\u001b[1;32m--> 530\u001b[0m \u001b[39mreturn\u001b[39;00m \u001b[39mself\u001b[39;49m\u001b[39m.\u001b[39;49m_make_api_call(operation_name, kwargs)\n",
      "File \u001b[1;32mc:\\Users\\zanen\\miniconda3\\envs\\main_env\\lib\\site-packages\\botocore\\client.py:960\u001b[0m, in \u001b[0;36mBaseClient._make_api_call\u001b[1;34m(self, operation_name, api_params)\u001b[0m\n\u001b[0;32m    958\u001b[0m     error_code \u001b[39m=\u001b[39m parsed_response\u001b[39m.\u001b[39mget(\u001b[39m\"\u001b[39m\u001b[39mError\u001b[39m\u001b[39m\"\u001b[39m, {})\u001b[39m.\u001b[39mget(\u001b[39m\"\u001b[39m\u001b[39mCode\u001b[39m\u001b[39m\"\u001b[39m)\n\u001b[0;32m    959\u001b[0m     error_class \u001b[39m=\u001b[39m \u001b[39mself\u001b[39m\u001b[39m.\u001b[39mexceptions\u001b[39m.\u001b[39mfrom_code(error_code)\n\u001b[1;32m--> 960\u001b[0m     \u001b[39mraise\u001b[39;00m error_class(parsed_response, operation_name)\n\u001b[0;32m    961\u001b[0m \u001b[39melse\u001b[39;00m:\n\u001b[0;32m    962\u001b[0m     \u001b[39mreturn\u001b[39;00m parsed_response\n",
      "\u001b[1;31mClientError\u001b[0m: An error occurred (ValidationException) when calling the Scan operation: Invalid FilterExpression: Syntax error; token: \"<\", near: \"<boto3\""
     ]
    }
   ],
   "source": [
    "# testing spoonacular_gen_recipe\n",
    "from testing import *\n",
    "\n",
    "\n",
    "recipe = RecipeHelper()\n",
    "\n",
    "discord_dc = recipe.spoonacular_gen_recipe()\n",
    "print(json.dumps(discord_dc.get_message(\"PONG\"),indent=4))\n",
    "\n"
   ]
  },
  {
   "cell_type": "code",
   "execution_count": null,
   "metadata": {},
   "outputs": [],
   "source": [
    " "
   ]
  }
 ],
 "metadata": {
  "kernelspec": {
   "display_name": "main_env",
   "language": "python",
   "name": "python3"
  },
  "language_info": {
   "codemirror_mode": {
    "name": "ipython",
    "version": 3
   },
   "file_extension": ".py",
   "mimetype": "text/x-python",
   "name": "python",
   "nbconvert_exporter": "python",
   "pygments_lexer": "ipython3",
   "version": "3.8.10"
  },
  "orig_nbformat": 4,
  "vscode": {
   "interpreter": {
    "hash": "70234e702f8a05bd22622d5df74fe678edcf30833c78d7859f0282b83b66f646"
   }
  }
 },
 "nbformat": 4,
 "nbformat_minor": 2
}
