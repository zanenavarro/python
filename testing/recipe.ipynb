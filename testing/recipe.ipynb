{
 "cells": [
  {
   "cell_type": "code",
   "execution_count": 1,
   "metadata": {},
   "outputs": [
    {
     "name": "stdout",
     "output_type": "stream",
     "text": [
      "c:\\Users\\zanen\\OneDrive\\Desktop\\Projects\\Python\\discord\\1_0\\lib\\\n"
     ]
    },
    {
     "ename": "TypeError",
     "evalue": "spoonacular_gen_recipe() missing 2 required positional arguments: 'filter_options' and 'search_type'",
     "output_type": "error",
     "traceback": [
      "\u001b[1;31m---------------------------------------------------------------------------\u001b[0m",
      "\u001b[1;31mTypeError\u001b[0m                                 Traceback (most recent call last)",
      "Cell \u001b[1;32mIn[1], line 6\u001b[0m\n\u001b[0;32m      2\u001b[0m \u001b[39mfrom\u001b[39;00m \u001b[39mtesting\u001b[39;00m \u001b[39mimport\u001b[39;00m \u001b[39m*\u001b[39m\n\u001b[0;32m      5\u001b[0m recipe \u001b[39m=\u001b[39m RecipeHelper()\n\u001b[1;32m----> 6\u001b[0m recipe\u001b[39m.\u001b[39;49mspoonacular_gen_recipe()\n",
      "\u001b[1;31mTypeError\u001b[0m: spoonacular_gen_recipe() missing 2 required positional arguments: 'filter_options' and 'search_type'"
     ]
    }
   ],
   "source": [
    "# testing spoonacular_gen_recipe\n",
    "from testing import *\n",
    "\n",
    "\n",
    "recipe = RecipeHelper()\n",
    "recipe.spoonacular_gen_recipe()\n",
    "\n",
    "\n"
   ]
  }
 ],
 "metadata": {
  "kernelspec": {
   "display_name": "main_env",
   "language": "python",
   "name": "python3"
  },
  "language_info": {
   "codemirror_mode": {
    "name": "ipython",
    "version": 3
   },
   "file_extension": ".py",
   "mimetype": "text/x-python",
   "name": "python",
   "nbconvert_exporter": "python",
   "pygments_lexer": "ipython3",
   "version": "3.8.10"
  },
  "orig_nbformat": 4,
  "vscode": {
   "interpreter": {
    "hash": "70234e702f8a05bd22622d5df74fe678edcf30833c78d7859f0282b83b66f646"
   }
  }
 },
 "nbformat": 4,
 "nbformat_minor": 2
}
